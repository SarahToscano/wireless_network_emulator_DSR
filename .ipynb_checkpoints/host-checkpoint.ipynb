{
 "cells": [
  {
   "cell_type": "code",
   "execution_count": null,
   "metadata": {},
   "outputs": [],
   "source": [
    "class host:\n",
    "    def __init__(self, x, y, reach, ID):\t#delfaut constructor\n",
    "        self.posX = x\n",
    "        self.posY = y\n",
    "        self.ID = ID\n",
    "        self.reach = reach\n",
    "        self.mac = mac   \n",
    "    \n",
    "    #Getter Method\n",
    "    def get_posX(self):\n",
    "        return self.posX\n",
    "    def get_posY(self):\n",
    "        return self.posY\n",
    "    def get_ID(self):\n",
    "        return self.ID\n",
    "    def get_reach(self):\n",
    "        return self.reach\n",
    "    def get_mac(self):\n",
    "        return self.mac\n",
    "    \n",
    "    #Setter Method\n",
    "    def set_posX(self,x ):\n",
    "        self.posX = x\n",
    "    def set_posY(self,x):\n",
    "        self.posY = x\n",
    "    def set_ID(self,x):\n",
    "        self.ID = x\n",
    "    def set_reach(self,x):\n",
    "        self.reach = x\n",
    "    def set_mac(self,x):\n",
    "        self.mac = x\n",
    "\n",
    "        "
   ]
  }
 ],
 "metadata": {
  "kernelspec": {
   "display_name": "Python 3",
   "language": "python",
   "name": "python3"
  },
  "language_info": {
   "codemirror_mode": {
    "name": "ipython",
    "version": 3
   },
   "file_extension": ".py",
   "mimetype": "text/x-python",
   "name": "python",
   "nbconvert_exporter": "python",
   "pygments_lexer": "ipython3",
   "version": "3.7.4"
  }
 },
 "nbformat": 4,
 "nbformat_minor": 4
}
